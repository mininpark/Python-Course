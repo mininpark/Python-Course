{
 "cells": [
  {
   "cell_type": "code",
   "execution_count": 1,
   "id": "008e74bb",
   "metadata": {},
   "outputs": [],
   "source": [
    "import numpy as np"
   ]
  },
  {
   "cell_type": "code",
   "execution_count": 3,
   "id": "d0c467cf",
   "metadata": {},
   "outputs": [],
   "source": [
    "def Regression(X,y):\n",
    "    # in numpy, np.inv is marix inverse, .T is transpose, @ is matrix multiplication\n",
    "    XT = X.T\n",
    "    inverse = np.linalg.inv(XT @ X) \n",
    "    beta_hat = inverse @ XT @ y\n",
    "    e = y - (x @ b)# finding error term\n",
    "    sigma2 = (e.T @ e)/?)\n",
    "    var = sigma2 @ inverse # variance\n",
    "    \n",
    "    \n",
    "    t= stats.t.ppf(.975, (x.shape[0] - x.shape[1]))\n",
    "    \n",
    "def Regression(X,y):\n",
    "    b = np.linalg.inv(x.T @ x) @ x.T @ y #regression and coefficients\n",
    "    e = y - (x @ b) #finding error term\n",
    "    sigsq = (e.T @ e)/(x.shape[0] - x.shape[1]) #sigma squared - I didn't subtract another 1 for degress of freedom becuase x.shape[1] includes the list of 1s used for B0\n",
    "    var = np.diag(np.multiply(sigsq, np.linalg.inv(x.T @ x))) #variance\n",
    "    SE = np.sqrt(var).reshape(3,1) #standard error\n",
    "    t = stats.t.ppf(.975, (x.shape[0] - x.shape[1])) #getting t-stat - just as above, I didn't subtract an extra 1 for degrees of freedom since x.shape[1] is already 3 (not 2) becuase of the column of 1s\n",
    "    plus = b + SE * t #confidence interval plus\n",
    "    minus = b - SE * t #confidence interval minus\n",
    "    CI = np.hstack([minus, plus]) #confidence intervals into array\n",
    "    output = pd.DataFrame(np.hstack([b, SE, CI]), columns=['Coefficients', 'Standard Error', 'CI-', 'CI+']) #creating a dataframe with my coefficients, standard error, and confidence intervals\n"
   ]
  },
  {
   "cell_type": "code",
   "execution_count": null,
   "id": "cd2e40a6",
   "metadata": {},
   "outputs": [],
   "source": []
  }
 ],
 "metadata": {
  "kernelspec": {
   "display_name": "Python 3 (ipykernel)",
   "language": "python",
   "name": "python3"
  },
  "language_info": {
   "codemirror_mode": {
    "name": "ipython",
    "version": 3
   },
   "file_extension": ".py",
   "mimetype": "text/x-python",
   "name": "python",
   "nbconvert_exporter": "python",
   "pygments_lexer": "ipython3",
   "version": "3.10.0"
  }
 },
 "nbformat": 4,
 "nbformat_minor": 5
}
