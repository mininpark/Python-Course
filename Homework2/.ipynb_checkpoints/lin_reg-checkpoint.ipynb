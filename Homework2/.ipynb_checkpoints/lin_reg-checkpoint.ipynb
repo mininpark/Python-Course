{
 "cells": [
  {
   "cell_type": "code",
   "execution_count": 1,
   "id": "d91b6249",
   "metadata": {},
   "outputs": [],
   "source": [
    "import numpy as np\n",
    "\n",
    "def lin_regression(X, Y):\n",
    "    X = np.array(X)\n",
    "    Y = np.array(Y).reshape(-1,1)\n",
    "    combination = np.hstack([X, Y])\n",
    "    X = X[~np.isnan(combination).any(axis=1)]\n",
    "    targets = targets[~np.isnan(combination).any(axis=1)]\n",
    "    beta = np.matmul(np.matmul(np.linalg.inv(np.matmul(np.transpose(X), X)), np.transpose(X)), Y)\n",
    "    y_hat = np.matmul(X, beta)\n",
    "    errors = targets - y_hat\n",
    "    variance = float(np.matmul(np.transpose(errors), errors) / (X.shape[0] - X.shape[1] - 1))\n",
    "    variance_beta = []\n",
    "    for index, coeff in enumerate(beta.tolist()):\n",
    "        mean = float(covariates[:, index].mean())\n",
    "        summation = 0\n",
    "        for point in covariates[:, index].tolist():\n",
    "            summation += pow(float(point) - mean, 2)\n",
    "        variance_beta.append(variance/summation)\n",
    "    variance_beta = np.array(variance_beta).reshape(-1,1)\n",
    "    se_beta = np.sqrt(variance_beta)\n",
    "    lower_bounds = beta - (2 * se_beta)\n",
    "    upper_bounds = beta + (2 * se_beta)\n",
    "    return beta[:,0], se_beta[:,0], lower_bounds[:,0], upper_bounds[:,0]"
   ]
  },
  {
   "cell_type": "code",
   "execution_count": null,
   "id": "16d30303",
   "metadata": {},
   "outputs": [],
   "source": []
  }
 ],
 "metadata": {
  "kernelspec": {
   "display_name": "Python 3 (ipykernel)",
   "language": "python",
   "name": "python3"
  },
  "language_info": {
   "codemirror_mode": {
    "name": "ipython",
    "version": 3
   },
   "file_extension": ".py",
   "mimetype": "text/x-python",
   "name": "python",
   "nbconvert_exporter": "python",
   "pygments_lexer": "ipython3",
   "version": "3.10.1"
  }
 },
 "nbformat": 4,
 "nbformat_minor": 5
}
